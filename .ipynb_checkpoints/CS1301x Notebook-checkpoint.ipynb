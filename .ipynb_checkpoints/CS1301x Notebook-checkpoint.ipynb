{
 "cells": [
  {
   "cell_type": "markdown",
   "metadata": {
    "toc": true
   },
   "source": [
    "<h1>Table of Contents<span class=\"tocSkip\"></span></h1>\n",
    "<div class=\"toc\"><ul class=\"toc-item\"><li><span><a href=\"#CS1301xI\" data-toc-modified-id=\"CS1301xI-1\"><span class=\"toc-item-num\">1&nbsp;&nbsp;</span>CS1301xI</a></span><ul class=\"toc-item\"><li><span><a href=\"#Practice-Exam-Problems\" data-toc-modified-id=\"Practice-Exam-Problems-1.1\"><span class=\"toc-item-num\">1.1&nbsp;&nbsp;</span>Practice Exam Problems</a></span></li><li><span><a href=\"#Extra-Practice-Problems\" data-toc-modified-id=\"Extra-Practice-Problems-1.2\"><span class=\"toc-item-num\">1.2&nbsp;&nbsp;</span>Extra Practice Problems</a></span></li></ul></li><li><span><a href=\"#CS1301xII\" data-toc-modified-id=\"CS1301xII-2\"><span class=\"toc-item-num\">2&nbsp;&nbsp;</span>CS1301xII</a></span><ul class=\"toc-item\"><li><span><a href=\"#Extra-Practice-Problems\" data-toc-modified-id=\"Extra-Practice-Problems-2.1\"><span class=\"toc-item-num\">2.1&nbsp;&nbsp;</span>Extra Practice Problems</a></span></li></ul></li></ul></div>"
   ]
  },
  {
   "cell_type": "markdown",
   "metadata": {},
   "source": [
    "# CS1301x:\n",
    "\n",
    "This notebook houses the coding problems from the practice tests and extra practice problems in the Edx course CS1301x by Georgia Tech. This is an introduction to computing course focusing on Python."
   ]
  },
  {
   "cell_type": "markdown",
   "metadata": {
    "heading_collapsed": true
   },
   "source": [
    "## CS1301xI\n",
    "This section includes an overview of programming and basics involving variables, logical operators, and mathematical operators."
   ]
  },
  {
   "cell_type": "markdown",
   "metadata": {
    "heading_collapsed": true,
    "hidden": true
   },
   "source": [
    "### Practice Exam Problems"
   ]
  },
  {
   "cell_type": "code",
   "execution_count": null,
   "metadata": {
    "code_folding": [
     0
    ],
    "hidden": true
   },
   "outputs": [],
   "source": [
    "## CS1301xI Test Coding Problem 1\n",
    "mystery_string_1 = \"17\"\n",
    "mystery_string_2 = \"9\"\n",
    "\n",
    "#You may modify the lines of code above, but don't move them!\n",
    "#When you Submit your code, we'll change these lines to\n",
    "#assign different values to the variables.\n",
    "\n",
    "#mystery_string_1 and mystery_string_2 are each strings\n",
    "#representing numbers. Write some code below that will find\n",
    "#the numeric sum of the numbers represented by these strings.\n",
    "#For example, if the strings were \"17\" and \"9\", your answer\n",
    "#would be 26.\n",
    "#\n",
    "#Then, print out the result as part of a sentence of this\n",
    "#form: \"The sum of the two strings is 26\". (Do not include\n",
    "#quotes in your output, only print the message inside the\n",
    "#quotes.)\n",
    "#\n",
    "#You may assume that both strings will hold integers.\n",
    "\n",
    "#Add your code here!\n",
    "mystery_sum = int(mystery_string_1)+int(mystery_string_2)\n",
    "print(f'The sum of the two strings is {mystery_sum}')"
   ]
  },
  {
   "cell_type": "code",
   "execution_count": null,
   "metadata": {
    "code_folding": [
     0
    ],
    "hidden": true
   },
   "outputs": [],
   "source": [
    "## CS1301xI Test Coding Problem 3\n",
    "current_hour = 5\n",
    "time_of_day = \"PM\"\n",
    "\n",
    "#You may modify the lines of code above, but don't move them!\n",
    "#When you Submit your code, we'll change these lines to\n",
    "#assign different values to the variables.\n",
    "#\n",
    "#Write some code that will print the following message based\n",
    "#on the values of current_hour and time_of_day:\n",
    "#\n",
    "#The current time is 5PM: Cuckoo!Cuckoo!Cuckoo!Cuckoo!Cuckoo!\n",
    "#\n",
    "#The values of current_hour and time_of_day should replace\n",
    "#\"5PM\", and \"Cuckcoo!\" should be printed current_hour times.\n",
    "#\n",
    "#For example, if current_hour was 2 and time_of_day was \"AM\",\n",
    "#this would print:\n",
    "#\n",
    "#The current time is 2AM: Cuckoo!Cuckoo!\n",
    "\n",
    "\n",
    "#Add your code here!\n",
    "\n",
    "cuckoo = current_hour*'Cuckoo!'\n",
    "print(f'The current time is {current_hour}{time_of_day}: {cuckoo}')\n"
   ]
  },
  {
   "cell_type": "code",
   "execution_count": null,
   "metadata": {
    "code_folding": [
     0
    ],
    "hidden": true
   },
   "outputs": [],
   "source": [
    "## CS1301xI Test Coding Problem 4\n",
    "cost = 150000\n",
    "rate = 0.0415\n",
    "years = 15\n",
    "\n",
    "#You may modify the lines of code above, but don't move them!\n",
    "#When you Submit your code, we'll change these lines to\n",
    "#assign different values to the variables.\n",
    "\n",
    "#When taking out a mortgage (a type of loan) for a house, the\n",
    "#mortgage is defined by three variables: the total cost of the\n",
    "#house, the interest rate at which you will pay back the\n",
    "#mortgage, and how many months you have to pay back the\n",
    "#mortgage.\n",
    "#\n",
    "#The formula to find the total amount of money that will be\n",
    "#paid over that time is:\n",
    "#\n",
    "#  Cost * Number of Months * Monthly Rate /\n",
    "#  1 - ((1 + Monthly Rate) ^ -Number of Months))\n",
    "#\n",
    "#Note that both time and rate are based on months: to find the\n",
    "#monhtly rate, divide the annual rate by 12. To find the number\n",
    "#of months, multiply the number of years by 12.\n",
    "#\n",
    "#Write some code that prints out a sentence like the following\n",
    "#based on the original cost, interest rate, and number of years\n",
    "#given above:\n",
    "#\n",
    "# The total cost of the house will be $201751.36\n",
    "#\n",
    "#You should round the total cost to two decimal places. You can\n",
    "#do this with this line, assuming the actual value of the\n",
    "#mortgage is stored in final_cost: final_cost = round(final_cost, 2)\n",
    "\n",
    "\n",
    "#Add your code here!\n",
    "\n",
    "\n",
    "monthly_rate = rate/12\n",
    "num_months = years*12\n",
    "total_cost = round((cost*num_months*monthly_rate)/(1-((1+monthly_rate)**-num_months)),2)\n",
    "\n",
    "print(f'The total cost of the house will be ${total_cost}')"
   ]
  },
  {
   "cell_type": "code",
   "execution_count": null,
   "metadata": {
    "code_folding": [
     0
    ],
    "hidden": true
   },
   "outputs": [],
   "source": [
    "## CS1301xI Test Coding Problem 5\n",
    "number = 215\n",
    "\n",
    "#You may modify the lines of code above, but don't move them!\n",
    "#When you Submit your code, we'll change these lines to\n",
    "#assign different values to the variables.\n",
    "#\n",
    "#The number above is given in base 10. Let's convert it to\n",
    "#base 2 and print it in binary. For example, 215 can be written\n",
    "#in binary as 11010111.\n",
    "#\n",
    "#Each digit of that string corresponds to a power of 2. The far\n",
    "#left digit represents 128, then 64, then 32, then 16, then 8,\n",
    "#then 4, then 2, and then finally 1 at the far right.\n",
    "#\n",
    "#To convert the number to binary, first check to see if it is\n",
    "#greater than or equal to 128. If it is, your first digit is 1.\n",
    "#If not, your first digit is 0. If the number was greater than\n",
    "#128, subtract 128 (because the 128 is captured by the first\n",
    "#digit of the string).\n",
    "#\n",
    "#Then, repeat that process for 64, 32, 16, 8, 4, 2, and 1.\n",
    "#\n",
    "#For example:\n",
    "#\n",
    "#215 is >= 128: 1\n",
    "#87 is >= 64: 11\n",
    "#23 is not >= 32: 110\n",
    "#23 is >= 16: 1101\n",
    "#7 is not >= 8: 11010\n",
    "#7 is >= 4: 110101\n",
    "#3 is >= 2: 1101011\n",
    "#1 is >= 1: 11010111\n",
    "#\n",
    "#Note that although we use 'if' a lot to describe this problem,\n",
    "#this can be done entirely with floor division and modulus.\n",
    "#Remember, if you convert a boolean to an integer, True becomes\n",
    "#1 and False becomes 0.\n",
    "#\n",
    "#Note that we always work with binary in 8-bit chunks: the\n",
    "#number 7 would be 00000111, not just 111. That's because inside\n",
    "#the computer, 8 1s and 0s make a byte, which is the smallest\n",
    "#practical unit of storage (rarely are bits used outside 8-bit\n",
    "#bytes).\n",
    "#\n",
    "#Print the string that results from this conversion.\n",
    "\n",
    "\n",
    "#Add your code here!\n",
    "\n",
    "dig1 = (number // 128) >= 1 \n",
    "dig2 = (number - (dig1*128))//64 >=1\n",
    "dig3 = (number-(dig1*128) - (dig2*64))//32 >=1\n",
    "dig4 = (number -(dig1*128) - (dig2*64) - (dig3*32))//16 >=1\n",
    "dig5 = (number -(dig1*128) - (dig2*64) - (dig3*32) - (dig4*16))//8 >=1\n",
    "dig6 = (number -(dig1*128) - (dig2*64) - (dig3*32) - (dig4*16) - (dig5*8))//4 >=1\n",
    "dig7 = (number -(dig1*128) - (dig2*64) - (dig3*32) - (dig4*16) - (dig5*8)-(dig6*4))//2 >=1\n",
    "dig8 = (number -(dig1*128) - (dig2*64) - (dig3*32) - (dig4*16) - (dig5*8)-(dig6*4)-(dig7*2))//1 >=1\n",
    "\n",
    "print(str(int(dig1))+str(int(dig2))+str(int(dig3))+str(int(dig4))+str(int(dig5))+str(int(dig6))+str(int(dig7))+str(int(dig8)))"
   ]
  },
  {
   "cell_type": "code",
   "execution_count": null,
   "metadata": {
    "code_folding": [
     0
    ],
    "hidden": true
   },
   "outputs": [],
   "source": [
    "## CS1301xI Test Coding Problem 6\n",
    "message = \"lol\"\n",
    "punct = \"!\"\n",
    "num = 3\n",
    "\n",
    "#You may modify the lines of code above, but don't move them!\n",
    "#When you Submit your code, we'll change these lines to\n",
    "#assign different values to the variables.\n",
    "\n",
    "#Using the values of message, punct, and num, print\n",
    "#a string that looks like the one below if message = \"lol\",\n",
    "#punct = \"!\", and num = 3:\n",
    "#\n",
    "# !!!lol!!!lol!!!lol!!!\n",
    "#\n",
    "#Specifically, it should start by printing punct num\n",
    "#times, then print message, repeat that entire process\n",
    "#num times, and then print punct num times again.\n",
    "#\n",
    "#Here are a couple other examples:\n",
    "#\n",
    "# message = \"bbl\", punct = \":\", num = 1 -> :bbl:\n",
    "# message = \"bbq\", punct = \"?\", num = 2 -> ??bbq??bbq??\n",
    "# message = \"brb\", punct = \".\", num = 4 -> ....brb....brb....brb....brb....\n",
    "\n",
    "\n",
    "#Add your code below!\n",
    "\n",
    "\n",
    "\n",
    "print(num*((num*punct)+message)+num*punct)\n"
   ]
  },
  {
   "cell_type": "code",
   "execution_count": null,
   "metadata": {
    "code_folding": [
     0
    ],
    "hidden": true
   },
   "outputs": [],
   "source": [
    "## CS1301xI Test Coding Problem 7\n",
    "num = 4\n",
    "\n",
    "#You may modify the lines of code above, but don't move them!\n",
    "#When you Submit your code, we'll change these lines to\n",
    "#assign different values to the variables.\n",
    "\n",
    "#Write some code that calculates the square and the square root\n",
    "#of the number given above. Then, it should print the root the\n",
    "#square number of times. If the square root is a decimal,\n",
    "#round it down (you can do this by converting the decimal to\n",
    "#an integer: Python will automatically round it down).\n",
    "#\n",
    "#For example, if num is 4, then your code would print:\n",
    "#\n",
    "# 2222222222222222\n",
    "#\n",
    "#That's 2 16 times. 4 squared is 16, the square root of 4 is 2,\n",
    "#and so it prints 2 16 times.\n",
    "#\n",
    "#For another example: if num is 13, then 13 squared is 169, and\n",
    "#the square root of 13 is ~3.6. 3.6 rounds down to 3. So, it would\n",
    "#print 3 169 times.\n",
    "\n",
    "\n",
    "#Add your code here!\n",
    "\n",
    "\n",
    "\n",
    "\n",
    "num_squared = num**2\n",
    "num_sqrt = int(num**(1/2))\n",
    "print(str(num_sqrt)*num_squared)\n"
   ]
  },
  {
   "cell_type": "code",
   "execution_count": null,
   "metadata": {
    "code_folding": [
     0
    ],
    "hidden": true
   },
   "outputs": [],
   "source": [
    "## CS1301xI Test Coding Problem 8\n",
    "current_hour = 12\n",
    "current_minute = 37\n",
    "current_section = \"PM\"\n",
    "due_hour = 9\n",
    "due_minute = 0\n",
    "due_section = \"AM\"\n",
    "\n",
    "#You may modify the lines of code above, but don't move them!\n",
    "#When you Submit your code, we'll change these lines to\n",
    "#assign different values to the variables.\n",
    "\n",
    "#Given the current time and deadline time represented by the\n",
    "#variables above, determine if an assignment is still eligible\n",
    "#for submission. An assignment is eligible if the time\n",
    "#represented by current_hour, current_minute, and\n",
    "#current_section is before the time represented by due_hour,\n",
    "#due_minute, and due_section.\n",
    "\n",
    "\n",
    "#Add your code here!\n",
    "from datetime import time\n",
    "\n",
    "current_time = time(current_hour,current_minute)\n",
    "due_time = time(due_hour,due_minute)\n",
    "\n",
    "past_sub = current_time>due_time\n",
    "print(past_sub)\n",
    "\n",
    "\n",
    "\n"
   ]
  },
  {
   "cell_type": "markdown",
   "metadata": {
    "heading_collapsed": true,
    "hidden": true
   },
   "source": [
    "### Extra Practice Problems"
   ]
  },
  {
   "cell_type": "code",
   "execution_count": null,
   "metadata": {
    "code_folding": [
     0
    ],
    "hidden": true
   },
   "outputs": [],
   "source": [
    "## Extra Practice Problem 1\n",
    "old_balance = \"500.45\"\n",
    "deposit = \"10\"\n",
    "\n",
    "#You may modify the lines of code above, but don't move them!\n",
    "#When you Submit your code, we'll change these lines to\n",
    "#assign different values to the variables.\n",
    "\n",
    "#Imagine you're writing code for an ATM that accepts cash\n",
    "#deposits. You need to update the customer's balance based\n",
    "#on a deposit amount. However, both the old balance and the\n",
    "#deposit are given as strings.\n",
    "#\n",
    "#Write code below that will print the new balance after the\n",
    "#deposit is processed. This should be printed along with\n",
    "#the following text labeling the amount:\n",
    "#\n",
    "#The new balance is: 510.45\n",
    "#\n",
    "#Note that the old balance will always include change, but\n",
    "#the deposit will never include change because the ATM has\n",
    "#no coin slot, only a slot for paper money.\n",
    "#\n",
    "#With the initial values of the variables shown above, your\n",
    "#code should print the text shown on line 17.\n",
    "\n",
    "\n",
    "#Add your code here!\n",
    "\n",
    "\n",
    "balance = float(old_balance) + int(deposit)\n",
    "print(f'The new balance is: {balance}')\n"
   ]
  },
  {
   "cell_type": "code",
   "execution_count": null,
   "metadata": {
    "code_folding": [
     0
    ],
    "hidden": true
   },
   "outputs": [],
   "source": [
    "## Extra Practice Problem 2\n",
    "balance = 500\n",
    "income = 200\n",
    "price = 1000\n",
    "months = 6\n",
    "\n",
    "#You may modify the lines of code above, but don't move them!\n",
    "#When you Submit your code, we'll change these lines to\n",
    "#assign different values to the variables.\n",
    "\n",
    "#You're thinking of buying a new computer. The variables\n",
    "#above represent the balance of your bank account, your\n",
    "#monthly disposable income, the total price of the computer,\n",
    "#and the number of months that the retailer will give you to\n",
    "#pay off the computer.\n",
    "#\n",
    "#You can buy the computer if either (a) you can afford to\n",
    "#buy the computer in cash right now (balance is greater than\n",
    "#price), or (b) you can afford the monthly payments (income\n",
    "#is greater than price divided by months).\n",
    "#\n",
    "#In other words, if a computer cost $1200 and you spread it\n",
    "#out over 12 months, you would need your monthly available\n",
    "#income to be at least $100 to buy the computer, or you\n",
    "#would need your current bank balance to be at least $1200.\n",
    "#\n",
    "#Add some code below that will print True if you're able to\n",
    "#afford the computer given the values above, and False if you\n",
    "#are not.\n",
    "\n",
    "\n",
    "#Add your code below!\n",
    "\n",
    "print((balance>price) or (income>price/months))"
   ]
  },
  {
   "cell_type": "code",
   "execution_count": null,
   "metadata": {
    "code_folding": [
     0
    ],
    "hidden": true
   },
   "outputs": [],
   "source": [
    "## Extra Practice Problem 3\n",
    "hot = False\n",
    "cold = True\n",
    "rainy = True\n",
    "windy = False\n",
    "snowy = False\n",
    "\n",
    "#You may modify the lines of code above, but don't move them!\n",
    "#When you Submit your code, we'll change these lines to\n",
    "#assign different values to the variables.\n",
    "\n",
    "#Earlier, you wrote a program that made clothing\n",
    "#recommendations based on the weather. Your program could\n",
    "#specifically recommend a jacket, boots, flip-flips, or a\n",
    "#tshirt based on whether it was hot, cold, rainy, windy, or\n",
    "#snowy.\n",
    "#\n",
    "#Let's add some accessories to that program: a hat, gloves,\n",
    "#umbrella, and a scarf.\n",
    "#\n",
    "#Specifically, the program should recommend:\n",
    "#\n",
    "# - a hat if it's cold, or if it's hot but not rainy (cold\n",
    "#   and rainy still means a hat, though).\n",
    "# - gloves if it's cold and either snowy or rainy.\n",
    "# - an umbrella if it's hot, snowy, or rainy.\n",
    "# - a scarf if it's cold and windy or cold and snowy\n",
    "#   unless it's rainy. Rain means no scarf regardless of\n",
    "#   whether it's cold, windy, or snowy.\n",
    "#\n",
    "#Write some code below that will print four lines, one for\n",
    "#each of the four types of clothing. The lines should look\n",
    "#like this:\n",
    "#\n",
    "#Hat: True\n",
    "#Gloves: True\n",
    "#Umbrella: False\n",
    "#Scarf: False\n",
    "#\n",
    "#The values (True and False) will differ based on the\n",
    "#values assigned to hot, cold, windy, snowy, and rainy\n",
    "#at the start of the program.\n",
    "\n",
    "\n",
    "#Add your code here!\n",
    "\n",
    "print(\"Hat:\", cold or (hot and not rainy))\n",
    "print(\"Gloves:\", cold and (snowy or rainy))\n",
    "print(\"Umbrella:\",hot or snowy or rainy)\n",
    "print(\"Scarf:\", (cold and (windy  or snowy)) and not rainy)"
   ]
  },
  {
   "cell_type": "code",
   "execution_count": null,
   "metadata": {
    "code_folding": [
     0
    ],
    "hidden": true
   },
   "outputs": [],
   "source": [
    "## Extra Practice Problem 4\n",
    "import datetime\n",
    "start_date = datetime.date(2017, 2, 16)\n",
    "end_date = datetime.date(2017, 2, 16)\n",
    "start_time = datetime.time(4, 30, 0)\n",
    "end_time = datetime.time(4, 30, 17)\n",
    "\n",
    "#You may modify the lines of code above, but don't move them!\n",
    "#When you Submit your code, we'll change these lines to\n",
    "#assign different values to the variables.\n",
    "\n",
    "#Above, there are four variables: start_date, end_date,\n",
    "#start_time, and end_time. start_date and start_time together\n",
    "#represent a certain time on a certain date, and end_date and\n",
    "#end_time represent a different time on a different date.\n",
    "#\n",
    "#Add some code below that will print True if the end time\n",
    "#occurs after the start time. Print False if the end time\n",
    "#occurs before the start time. For example, 11:15:00 on\n",
    "#01/01/2017 would be before 09:00:00 on 01/05/2017, which\n",
    "#would be before 11:25:00 on 01/05/2017.\n",
    "#\n",
    "#Note that you may use dot notation to access the individual\n",
    "#parts of the dates and times. You can access the hour,\n",
    "#minute, and seconds from start_time with start_time.hour,\n",
    "#start_time.minute, and start_time.second. You can access\n",
    "#the year, month, and day of start_date with\n",
    "#start_date.year, start_date.month, and start_date.day. You\n",
    "#can use the same syntax to access the parts of end_date.\n",
    "#Note that Python uses 24-hour time.\n",
    "#\n",
    "#Hint: You may use conditionals to solve this if you want,\n",
    "#but you don't need to.\n",
    "#\n",
    "#Hint 2: You can use relational operators with both dates\n",
    "#and times. start_time < end_time is True if start_time is\n",
    "#before end_time. start_date >= end_date is True if\n",
    "#start_date is later than end_date, or the same date. With\n",
    "#this, you can avoid using dot notation altogether if\n",
    "#you'd like.\n",
    "\n",
    "\n",
    "#Add your code here!\n",
    "\n",
    "\n",
    "\n",
    "print((end_date>=start_date) and (end_time>start_time))"
   ]
  },
  {
   "cell_type": "code",
   "execution_count": null,
   "metadata": {
    "code_folding": [
     0
    ],
    "hidden": true
   },
   "outputs": [],
   "source": [
    "## Extra Practice Problem 5\n",
    "goal = 50000\n",
    "rate = 0.05\n",
    "years = 5\n",
    "\n",
    "#You may modify the lines of code above, but don't move them!\n",
    "#When you Submit your code, we'll change these lines to\n",
    "#assign different values to the variables.\n",
    "\n",
    "#Earlier, we created a program that would calculate the\n",
    "#value of an investment account after a certain period of\n",
    "#time using the formula Amount = Principal * e^(Rate * Time).\n",
    "#\n",
    "#Let's revisit that, but let's flip the question around.\n",
    "#Instead of asking, \"What will the value of this account\n",
    "#be?\", let's instead ask, \"How much do I need to invest to\n",
    "#have a certain amount by a certain year?\" For example,\n",
    "#\"How much do I need to invest to have $50,000 in 5 years\n",
    "#at 5% (0.05) interest?\"\n",
    "#\n",
    "#Mathematically, the formula for this is:\n",
    "#\n",
    "#  goal / e ^ (rate * number of years) = principal\n",
    "#\n",
    "#Add some code below that will print the amount of principal\n",
    "#needed to reach the given savings goal within the number of\n",
    "#years and interest rate specified.\n",
    "#\n",
    "#In printing your response, you should round the answer to\n",
    "#two decimal places. Remember, you can do this with this\n",
    "#code (assuming that your principal is stored in a variable\n",
    "#called 'principal'): rounded_principal = round(principal, 2)\n",
    "#\n",
    "#Remember, you can access e using math.e as long as you don't\n",
    "#change the next line.\n",
    "import math\n",
    "\n",
    "#Add your code here!\n",
    "\n",
    "principal = goal/(math.e**(rate*years))\n",
    "rounded_principal = round(principal,2)\n",
    "print(rounded_principal)"
   ]
  },
  {
   "cell_type": "code",
   "execution_count": null,
   "metadata": {
    "code_folding": [
     0
    ],
    "hidden": true
   },
   "outputs": [],
   "source": [
    "## Extra Practice Problem 6\n",
    "principal = 40000\n",
    "rate = 0.05\n",
    "years = 5\n",
    "goal = 50000\n",
    "\n",
    "#You may modify the lines of code above, but don't move them!\n",
    "#When you Submit your code, we'll change these lines to\n",
    "#assign different values to the variables.\n",
    "\n",
    "#Last problem, we calculated how much money a person would\n",
    "#have to invest to reach a certain savings goal. Now, let's\n",
    "#modify that to instead take a principal, interest rate,\n",
    "#number of years, and savings goal, and report whether or not\n",
    "#the person will meet their savings goal.\n",
    "#\n",
    "#Add some code below that will calculate whether the\n",
    "#investment described by the values above will meet the given\n",
    "#goal. If it will, print True. If it will not, print False.\n",
    "#\n",
    "#As a reminder, the formula for the value of an account after\n",
    "#a given time (in number of years) is:\n",
    "#\n",
    "#  Current Value = principal * e ^ (rate * number of years)\n",
    "#\n",
    "#Remember, you can access e using math.e as long as you don't\n",
    "#change the next line. You don't need to worry about rounding\n",
    "#on this problem.\n",
    "import math\n",
    "\n",
    "\n",
    "#Add your code here!\n",
    "\n",
    "\n",
    "acc_value = principal * math.e**(rate*years)\n",
    "print(goal<acc_value)"
   ]
  },
  {
   "cell_type": "code",
   "execution_count": null,
   "metadata": {
    "code_folding": [
     0
    ],
    "hidden": true
   },
   "outputs": [],
   "source": [
    "## Extra Practice Problem 7\n",
    "spouse_1 = \"Caitlin\"\n",
    "spouse_2 = \"David\"\n",
    "month = \"November\"\n",
    "day = 3\n",
    "year = 2012\n",
    "time = \"5:00PM\"\n",
    "\n",
    "#You may modify the lines of code above, but don't move them!\n",
    "#When you Submit your code, we'll change these lines to\n",
    "#assign different values to the variables.\n",
    "#\n",
    "#The variables above give some information about a wedding:\n",
    "#the names of the spouses and the month, day, year, and time\n",
    "#of the wedding.\n",
    "#\n",
    "#Add some code that will write the text to appear on a wedding\n",
    "#invitation based on these values. For the values shown above,\n",
    "#this would read:\n",
    "#\n",
    "#You are cordially invited to attend the wedding of Caitlin and David, to take place on November 3, 2012 at 5:00PM.\n",
    "#\n",
    "#Note that all components of this statement are required: start\n",
    "#\"You are cordially invited to attend the wedding of \", followed\n",
    "#by spouse_1's name, followed by \" and \", followed by spouse_2's\n",
    "#name, then a comma and space, followed by \"to take place on \",\n",
    "#followed by the month, a space, the day, a comma and space, the\n",
    "#year, a space, the word \"at\", a space, the time, and then a\n",
    "#period.\n",
    "#\n",
    "#HINT: Copy the sentence below and replace the current values\n",
    "#(Caitlin, David, November, etc.) with variables to reduce the\n",
    "#risk of typoes throwing off your answers.\n",
    "\n",
    "\n",
    "#Add your code here!\n",
    "\n",
    "print(f\"You are cordially invited to attend the wedding of {spouse_1} and {spouse_2}, to take place on {month} {day}, {year} at {time}.\")"
   ]
  },
  {
   "cell_type": "code",
   "execution_count": null,
   "metadata": {
    "code_folding": [
     0
    ],
    "hidden": true
   },
   "outputs": [],
   "source": [
    "## Extra Practice Problem 8\n",
    "amount = 17\n",
    "\n",
    "#You may modify the lines of code above, but don't move them!\n",
    "#When you Submit your code, we'll change these lines to\n",
    "#assign different values to the variables.\n",
    "#\n",
    "#The variable above describes an amount of money measured in\n",
    "#dollars. Imagine you want to select the bills (1-dollar bills,\n",
    "#5-dollar bills, 10-dollar bills, etc.) that make up that\n",
    "#amount of money. For example, 17 dollars is one $10, one $5,\n",
    "#and two $1s.\n",
    "#\n",
    "#Write a program that will print out the bills needed to\n",
    "#arrive at the amount shown above. Assume that we always want\n",
    "#the maximum number of large bills: for example, for 17 dollars,\n",
    "#we want one $10, one $5, and two $1s, not three $5s and two $1s.\n",
    "#You may assume that the largest bill you have on hand is a\n",
    "#$50-dollar bill.\n",
    "#\n",
    "#Your code should print the following (with the correct numbers\n",
    "#based on the value of amount):\n",
    "#\n",
    "#Fifties: 0\n",
    "#Twenties: 0\n",
    "#Tens: 1\n",
    "#Fives: 1\n",
    "#Ones: 2\n",
    "\n",
    "\n",
    "#Add your code here!\n",
    "\n",
    "\n",
    "fifties = amount//50\n",
    "twenties = (amount - 50*fifties) // 20\n",
    "tens = (amount - 50*fifties - 20*twenties) // 10\n",
    "fives = (amount - 50*fifties - 20*twenties - 10*tens) // 5\n",
    "ones = (amount - 50*fifties - 20*twenties - 10*tens - 5*fives) // 1\n",
    "\n",
    "print(f'Fifties: {fifties}')\n",
    "print(f'Twenties: {twenties}')\n",
    "print(f'Tens: {tens}')\n",
    "print(f'Fives: {fives}')\n",
    "print(f'Ones: {ones}')"
   ]
  },
  {
   "cell_type": "code",
   "execution_count": null,
   "metadata": {
    "code_folding": [
     0
    ],
    "hidden": true
   },
   "outputs": [],
   "source": [
    "## Extra Practice Problem 9\n",
    "message = \"lol\"\n",
    "punct = \"!\"\n",
    "num = 3\n",
    "\n",
    "#You may modify the lines of code above, but don't move them!\n",
    "#When you Submit your code, we'll change these lines to\n",
    "#assign different values to the variables.\n",
    "\n",
    "#Using the values of message, punct, and num, print\n",
    "#a string that looks like the one below if message = \"lol\",\n",
    "#punct = \"!\", and num = 3:\n",
    "#\n",
    "# !!!lollollol!!!lollollol!!!lollollol!!!\n",
    "#\n",
    "#Specifically, it should start by printing punct num\n",
    "#times, then print message num times, repeat that entire\n",
    "#process num times, and then print punct num times\n",
    "#again.\n",
    "#\n",
    "#Here are a couple other examples:\n",
    "#\n",
    "# message = \"bbl\", punct = \":\", num = 1 -> :bbl:\n",
    "# message = \"bbq\", punct = \"?\", num = 2 -> \"??bbqbbq??bbqbbq??\n",
    "# message = \"brb\", punct = \".\", num = 4 -> ....brbbrbbrbbrb....brbbrbbrbbrb....brbbrbbrbbrb....brbbrbbrbbrb....\n",
    "\n",
    "\n",
    "#Add your code below!\n",
    "\n",
    "print(num*((num*punct)+(num*message))+num*punct)"
   ]
  },
  {
   "cell_type": "code",
   "execution_count": null,
   "metadata": {
    "code_folding": [
     0
    ],
    "hidden": true
   },
   "outputs": [],
   "source": [
    "## Extra Practice Problem 10\n",
    "num = 3\n",
    "\n",
    "#-----------------------------------------------------------\n",
    "#You may modify the lines of code above, but don't move them!\n",
    "#When you Submit your code, we'll change these lines to\n",
    "#assign different values to the variables.\n",
    "\n",
    "#Write some code that calculates the cube of the number\n",
    "#given by num. Then, print that number num^2 (num squared)\n",
    "#times in a row, with no spaces or line breaks in between.\n",
    "#\n",
    "#For example, if num is 3, then your code would print:\n",
    "#\n",
    "# 272727272727272727\n",
    "#\n",
    "#That 27 9 times. 3 squared is 9, 3 cubed is 27, and so\n",
    "#it prints 27 9 times.\n",
    "#\n",
    "#Note: these directions are slightly different from the\n",
    "#preview we posted! You should be printing num^3 num^2\n",
    "#times, not printing num^2 num^3 times.\n",
    "\n",
    "\n",
    "#Add your code here!\n",
    "\n",
    "print_num = num**2\n",
    "num **=3\n",
    "print(str(num)*print_num)"
   ]
  },
  {
   "cell_type": "code",
   "execution_count": null,
   "metadata": {
    "code_folding": [
     0
    ],
    "hidden": true
   },
   "outputs": [],
   "source": [
    "## Extra Practice Problem 11\n",
    "current_day = 31\n",
    "current_month = 5\n",
    "current_year = 2018\n",
    "birth_day = 19\n",
    "birth_month = 12\n",
    "birth_year = 1990\n",
    "\n",
    "#You may modify the lines of code above, but don't move them!\n",
    "#When you Submit your code, we'll change these lines to\n",
    "#assign different values to the variables.\n",
    "\n",
    "#Given the current date and birth date held by the variables\n",
    "#above, calculate and print this person's current age. Note\n",
    "#that if their birth date has not yet passed this year, your\n",
    "#result would be one less than if it has.\n",
    "#\n",
    "#For example, with the variables given above, the person\n",
    "#would turn 28 on December 12th, 2018. So, as of May 31st,\n",
    "#2018, they are 27.\n",
    "\n",
    "\n",
    "#Add your code here!\n",
    "import datetime\n",
    "\n",
    "current_date = datetime.date(current_year,current_month,current_day)\n",
    "date_passed = (current_date<datetime.date(current_year,birth_month,birth_day))\n",
    "age = current_year-birth_year-(date_passed*1)\n",
    "\n",
    "\n",
    "print(age)"
   ]
  },
  {
   "cell_type": "markdown",
   "metadata": {},
   "source": [
    "## CS1301xII\n",
    "This section includes an introduction to Control Structures, including:\n",
    "Conditionals (If, Elif, Else)\n",
    "Scope\n",
    "For/While Loops\n",
    "Functions with def function (ordered parameter, Optional parameter = Optional)\n",
    "Error handling with Try/Except, Except Exception as error stores error value, Except ZeroDivisionError catches specific error\n",
    "Python will run any code in a finally: block during error handling"
   ]
  },
  {
   "cell_type": "markdown",
   "metadata": {},
   "source": [
    "### Extra Practice Problems "
   ]
  },
  {
   "cell_type": "code",
   "execution_count": 1,
   "metadata": {
    "code_folding": [
     0
    ],
    "collapsed": true
   },
   "outputs": [
    {
     "name": "stdout",
     "output_type": "stream",
     "text": [
      "3\n",
      "5\n",
      "0\n"
     ]
    }
   ],
   "source": [
    "## Extra Course Practice Problem 1\n",
    "#Imagine you're writing the software that controls the speed\n",
    "#of a ceiling fan. The user changes the fan's speed by\n",
    "#pulling a string. Pulling the string increases the fan's =\n",
    "#speed by 1, unless it's already at the maximum speed. If\n",
    "#it's already at the maximum speed, it changes the speed\n",
    "#back to 0.\n",
    "#\n",
    "#Write a function called pullString. pullString should take\n",
    "#two parameters: a current speed, and a maximum speed, both\n",
    "#integers. pullString should return the new fan speed\n",
    "#according to the reasoning above.\n",
    "\n",
    "#You may assume that the input will be integers. You should\n",
    "#also assume that the fan's speed *can* equal the maximum\n",
    "#speed, but it *cannot* exceed the maximum speed. You may\n",
    "#thus assume that you will never be given a currentSpeed\n",
    "#higher than maxSpeed.\n",
    "\n",
    "\n",
    "#Write your function here!\n",
    "def pullString(current_speed,max_speed):\n",
    "    if current_speed < max_speed:\n",
    "        current_speed +=1\n",
    "    else:\n",
    "        current_speed = 0\n",
    "    return current_speed\n",
    "\n",
    "#The code below will test your function. It isn't used for\n",
    "#grading, so you can change or remove it if you'd like. As\n",
    "#written, these three lines should print 3, 5, and 0.\n",
    "print(pullString(2, 5))\n",
    "print(pullString(4, 5))\n",
    "print(pullString(7, 7))\n",
    "\n",
    "\n"
   ]
  },
  {
   "cell_type": "code",
   "execution_count": 12,
   "metadata": {
    "code_folding": [
     0
    ],
    "collapsed": true
   },
   "outputs": [
    {
     "name": "stdout",
     "output_type": "stream",
     "text": [
      "1326.0\n",
      "252.0\n",
      "4.0\n",
      "1.0\n"
     ]
    }
   ],
   "source": [
    "## Extra Course Practice Problem 2\n",
    "#A common formula in probability and statistics is the\n",
    "#formula for the number of possible combinations of r\n",
    "#objects from a set of n objects. For example, the question,\n",
    "#\"How many possible 2-card hands can you deal from a deck of\n",
    "#52 unique cards?\" is saying, \"How many combinations of 2\n",
    "#can you make from a set of 52?\"\n",
    "#\n",
    "#The formula for the number of combinations of length r from\n",
    "#a set of n objects is:\n",
    "#\n",
    "#  numCombinations = n! / r!(n-r)!\n",
    "#\n",
    "#The ! mark is the symbol for factorial. Factorial means the\n",
    "#product of the number times every number between itself and\n",
    "#1. For example, 5! is 120: 5 * 4 * 3 * 2 * 1 = 120.\n",
    "#\n",
    "#Write a function called numCombinations with two parameters:\n",
    "#n, the number of objects from which to choose, and r, the\n",
    "#number of objects to choose. numCombinations should return\n",
    "#the number of combinations according to the formula above.\n",
    "#Don't worry if you don't fully understand what combinations\n",
    "#are -- just focus on implementing a function that solves\n",
    "#that formula given n and r.\n",
    "#\n",
    "#You may *not* use Python's built-in factorial method to\n",
    "#complete this; you should implement that yourself.\n",
    "#\n",
    "#Hint: We'd suggest writing two functions: factorial() and\n",
    "#numCombinations(). Then, call factorial() in your code for \n",
    "#numCombinations(). You don't have to do this, but it will\n",
    "#make your answer a little easier!\n",
    "#\n",
    "#Hint 2: Remember to put parentheses around the denominator.\n",
    "\n",
    "\n",
    "#Write your numCombinations function (and any other functions) \n",
    "#here!\n",
    "def factorial(number):\n",
    "    for i in range (number-1,0,-1):\n",
    "        number =number * i\n",
    "    return number\n",
    "\n",
    "def numCombinations(num,r):\n",
    "    try:\n",
    "        return factorial(num)/(factorial(r)*factorial(num-r))\n",
    "    except ZeroDivisionError:\n",
    "        return 1.0\n",
    "#The lines below will test your code. They are not used for\n",
    "#grading, so feel free to modify them. As written, they should\n",
    "#print: 1326.0, 252.0, and 4.0, each on their own line.\n",
    "print(numCombinations(52, 2))\n",
    "print(numCombinations(10, 5))\n",
    "print(numCombinations(4, 1))\n",
    "print(numCombinations(4,4))"
   ]
  },
  {
   "cell_type": "code",
   "execution_count": 16,
   "metadata": {
    "code_folding": [
     0
    ],
    "collapsed": true
   },
   "outputs": [
    {
     "name": "stdout",
     "output_type": "stream",
     "text": [
      "A 10.0 kg object weighs 98.07 Newtons on Earth.\n",
      "A 5.0 kg object weighs 123.95 Newtons on Jupiter.\n"
     ]
    }
   ],
   "source": [
    "## Extra Course Practice Problem 3\n",
    "#An object's weight is defined as its mass times the gravity\n",
    "#on the planet where it sits. We tend to assume that the\n",
    "#planet is earth and its gravity is 9.807 m/s^2. However,\n",
    "#sometimes we might want to calculate an object's weight on\n",
    "#a different planet.\n",
    "#\n",
    "#Write a function called calculateWeight. calculateWeight\n",
    "#should have three parameters: mass, planet, and gravity.\n",
    "#planet and gravity should be keyword parameters: by\n",
    "#default, they should take the values \"Earth\" (a string) and\n",
    "#9.807 (a float). However, they should be able to be\n",
    "#overriden to let us calculate weights on other planets.\n",
    "#\n",
    "#The function should return a string that looks like this:\n",
    "#\"A [mass] kg object weighs [weight] Newtons on [planet].\"\n",
    "#You should round the weight to two decimal points. You\n",
    "#can do this by calling round() on the weight, e.g.\n",
    "#roundedWeight = round(weight, 2). The 2 dictates how\n",
    "#many decimal points should be included.\n",
    "#\n",
    "#For example:\n",
    "#\n",
    "# calculateWeight(10.0) ->\n",
    "#       \"A 10.0 kg object weighs 98.07 Newtons on Earth.\"\n",
    "#\n",
    "# calculateWeight(5.0, planet=\"Jupiter\", gravity=24.79) ->\n",
    "#       \"A 5.0 kg object weighs 24.79 Newtons on Jupiter.\"\n",
    "#\n",
    "#Hint: If you're having trouble with creating the string to\n",
    "#return, here's the first part:\n",
    "#result = \"A \" + str(mass) + \" kg object weighs \" ...\n",
    "\n",
    "\n",
    "#Write your function here!\n",
    "def calculateWeight(weight,planet = \"Earth\",gravity=\"9.807\"):\n",
    "    mass = round(weight*float(gravity),2)\n",
    "    return f'A {weight} kg object weighs {mass} Newtons on {planet}.'\n",
    "\n",
    "\n",
    "#The lines of code below will test your function. They are\n",
    "#not used for grading, so feel free to change them. As\n",
    "#written, these lines should output the two lines of output\n",
    "#shown above.\n",
    "print(calculateWeight(10.0))\n",
    "print(calculateWeight(5.0, planet=\"Jupiter\", gravity=24.79))\n",
    "\n",
    "\n"
   ]
  },
  {
   "cell_type": "code",
   "execution_count": 20,
   "metadata": {
    "code_folding": [
     0
    ],
    "collapsed": true
   },
   "outputs": [
    {
     "name": "stdout",
     "output_type": "stream",
     "text": [
      "Transaction\n",
      "PIN\n",
      "Password\n"
     ]
    }
   ],
   "source": [
    "## Extra Course Practice Problem 4\n",
    "#Imagine you're writing a cash register application. To make\n",
    "#interaction easier on the user, it doesn't have separate\n",
    "#areas for passwords, PIN numbers, or cash totals --\n",
    "#instead, it looks at what the cashier enters and infers\n",
    "#whether it's their PIN number, their password, or the cash\n",
    "#total for a transaction.\n",
    "#\n",
    "#The register makes this decision with the following rules:\n",
    "#\n",
    "# - If the cashier entered only digits, then it's a PIN\n",
    "#   number.\n",
    "# - If the cashier entered a decimal number, then it's the\n",
    "#   transaction amount.\n",
    "# - If the cashier entered anything else, then it's their\n",
    "#   password.\n",
    "#\n",
    "#Write a function named interpretCashier. interpretCashier\n",
    "#should take one parameter as input, which will always be\n",
    "#a string initially.\n",
    "#\n",
    "# - If the string entered represents a PIN number, return\n",
    "#   \"PIN\". \n",
    "# - If the string entered represents a transaction amount,\n",
    "#   return \"Transaction\".\n",
    "# - If the string entered represents a password, return\n",
    "#   \"Password\".\n",
    "#\n",
    "#Hint: There is a very easy way to do this, and a very hard\n",
    "#way to do this. Remember, this test is on control\n",
    "#structures, not strings.\n",
    "\n",
    "\n",
    "#Write your function here!\n",
    "def interpretCashier(cashier_input):\n",
    "    if cashier_input.count(\".\") == 1:\n",
    "        return \"Transaction\"\n",
    "    else:\n",
    "        try:\n",
    "            int(cashier_input)\n",
    "            return \"PIN\"\n",
    "        except:\n",
    "            return \"Password\"\n",
    "    \n",
    "#The lines of code below will test your function. It is not\n",
    "#used for grading, so feel free to change it. As written,\n",
    "#these lines should print Transaction, PIN, and Password,\n",
    "#each on a separate line.\n",
    "print(interpretCashier(\"24.59\"))\n",
    "print(interpretCashier(\"123456\"))\n",
    "print(interpretCashier(\"my$up3rs3cur3p4$$w0rd\"))\n",
    "\n",
    "\n"
   ]
  },
  {
   "cell_type": "code",
   "execution_count": 1,
   "metadata": {
    "code_folding": [
     0
    ],
    "collapsed": true
   },
   "outputs": [
    {
     "name": "stdout",
     "output_type": "stream",
     "text": [
      "0\n",
      "3\n",
      "2\n"
     ]
    }
   ],
   "source": [
    "## Extra Course Practice Problem 5\n",
    "#Write a function called remainder. remainder should take\n",
    "#two parameters: a dividend and a divisor. It should return\n",
    "#the remainder when you divide the dividend by the divisor.\n",
    "#\n",
    "#For example:\n",
    "# remainder(9, 3) -> 0\n",
    "# remainder(8, 3) -> 2\n",
    "# remainder(7, 3) -> 1\n",
    "# remainder(6, 3) -> 0\n",
    "#\n",
    "#You may not use Python's built-in modulus operator. The\n",
    "#symbol for that operator should not appear anywhere in your\n",
    "#code.\n",
    "#\n",
    "#You may assume both dividend and divisor will be greater\n",
    "#than 0\n",
    "\n",
    "\n",
    "#Add your function here!\n",
    "def remainder(dividend,divisor):\n",
    "    quotient = dividend//divisor\n",
    "    remainder = dividend - (quotient*divisor)\n",
    "    return remainder\n",
    "\n",
    "\n",
    "#Below are some lines of code that will test your function.\n",
    "#You can change the value of the variable(s) to test your\n",
    "#function with different inputs.\n",
    "#\n",
    "#If your function works correctly, this will originally\n",
    "#print: 0, 3, 2\n",
    "print(remainder(9, 3))\n",
    "print(remainder(11, 4))\n",
    "print(remainder(27, 5))\n",
    "\n",
    "\n",
    "\n"
   ]
  },
  {
   "cell_type": "code",
   "execution_count": 17,
   "metadata": {
    "code_folding": [
     0
    ],
    "collapsed": true
   },
   "outputs": [
    {
     "name": "stdout",
     "output_type": "stream",
     "text": [
      "ZOMGHCS\n",
      "ello\n",
      ",1301!!\n",
      "2\n",
      "Not a string!\n"
     ]
    }
   ],
   "source": [
    "## Extra Course Practice Problem 6\n",
    "#Write a function called sortString. sortString should take\n",
    "#one parameter as input, a string. If the input is not a\n",
    "#string, sortString should return the string \"Not a string!\"\n",
    "#If the input is a string, sortString should return a four-\n",
    "#line string according to the following directions:\n",
    "#\n",
    "# - On the first line should be each capital letter in the\n",
    "#   string, in the order in which they appear.\n",
    "# - On the second line should be each lower-case letter in\n",
    "#   the string, in the order in which they appear.\n",
    "# - On the third line should be each punctuation mark or\n",
    "#   numeral in the string, in the order in which they\n",
    "#   appear.\n",
    "# - On the fourth line should be an integer representing\n",
    "#   how many spaces were found in the string.\n",
    "#\n",
    "#There should be no other text in the string that you output\n",
    "#besides these four lines and the line breaks between them.\n",
    "#To insert a line break into a string, insert the character\n",
    "#sequence \"\\n\". For example, line1 + \"\\n\" + line2 would give\n",
    "#a string with the first two lines and a line break in\n",
    "#between. You may assume that the string will only be\n",
    "#letters, spaces, and punctuation -- no numbers, line breaks,\n",
    "#tabs, etc.\n",
    "#\n",
    "#For example, calling sortString(\"Hello, world!!1\" should\n",
    "#return: \"H\\nelloworld\\n,!!1\\n1\", which would look like this\n",
    "#when printed:\n",
    "#H\n",
    "#elloworld\n",
    "#,!!1\n",
    "#1\n",
    "#\n",
    "#Hint: Use the ord() function! Remember, when you pass a\n",
    "#one-character string into ord(), it returns a number.\n",
    "#\n",
    "# - Lower-case letters will return a number from 97 to 122.\n",
    "# - Upper-case letters will return a number from 65 to 90.\n",
    "# - Puncutation marks and numbers will return a number from\n",
    "#   33 to 64.\n",
    "# - Spaces will return the number 32.\n",
    "#\n",
    "#So, you can check if a letter is lowercase by seeing if\n",
    "#ord(letter) is between 97 and 122 (inclusive; 97 is 'a',\n",
    "#122 is 'z'), and so on for uppercase and punctuation.\n",
    "#\n",
    "#Hint 2: Build up three separate strings (one for\n",
    "#uppercase, one for lowercase, and one for punctuation),\n",
    "#then combine them and the count of the number of spaces\n",
    "#into a string to return at the end.\n",
    "\n",
    "\n",
    "#Write your sortString function here!\n",
    "def sortString(input_string):\n",
    "    capitals=\"\"\n",
    "    lowercase=\"\"\n",
    "    spaces =0\n",
    "    punctuation=\"\"\n",
    "    try:\n",
    "        for char in input_string:\n",
    "            if char.isupper():\n",
    "                capitals += char\n",
    "            elif char.islower():\n",
    "                lowercase += char\n",
    "            elif char.isspace():\n",
    "                spaces +=1\n",
    "            else:\n",
    "                punctuation+=char\n",
    "        result = f'{capitals}\\n{lowercase}\\n{punctuation}\\n{spaces}'\n",
    "    except TypeError:\n",
    "        result = \"Not a string!\"\n",
    "        \n",
    "    return result\n",
    "\n",
    "#The line of code below will test your function. It is not\n",
    "#used for grading, so feel free to modify it. As written,\n",
    "#it should print:\n",
    "#ZOMGHCS\n",
    "#ello\n",
    "#,1301!!\n",
    "#2\n",
    "print(sortString(\"ZOMG Hello, CS1301!!\"))\n",
    "print(sortString(5))\n",
    "\n",
    "\n"
   ]
  },
  {
   "cell_type": "code",
   "execution_count": null,
   "metadata": {
    "code_folding": [
     0
    ]
   },
   "outputs": [],
   "source": [
    "## Extra Course Practice Problem 7\n",
    "int1 = 7\n",
    "int2 = 5\n",
    "\n",
    "#You may modify the lines of code above, but don't move them!\n",
    "#When you Submit your code, we'll change these lines to\n",
    "#assign different values to the variables.\n",
    "\n",
    "#Write a conditional that will print one of the following\n",
    "#messages:\n",
    "#\n",
    "# - If the value of int1 is greater than the value of int2,\n",
    "#   print \"int1 is greater\" (without the quotes).\n",
    "# - If the value of int2 is greater than the value of int1,\n",
    "#   print \"int2 is greater\" (without the quotes).\n",
    "# - If the two values are equal, print \"int1 and int2 are\n",
    "#   equal\" (without the quotes).\n",
    "#\n",
    "#With the initial values above, this should print \"int1 is\n",
    "#greater\".\n",
    "\n",
    "\n",
    "#Add your code here!\n",
    "\n",
    "\n",
    "if int1>int2:\n",
    "    print(\"int1 is greater\")\n",
    "elif int2>int1:\n",
    "    print(\"int2 is greater\")\n",
    "else:\n",
    "    print(\"int1 and int2 are equal\")\n"
   ]
  },
  {
   "cell_type": "code",
   "execution_count": 2,
   "metadata": {
    "code_folding": [
     0
    ],
    "collapsed": true
   },
   "outputs": [
    {
     "name": "stdout",
     "output_type": "stream",
     "text": [
      "$240\n"
     ]
    }
   ],
   "source": [
    "## Extra Practice Problem 8\n",
    "driver_speed = 57\n",
    "speed_limit = 55\n",
    "school_zone = True\n",
    "\n",
    "#You may modify the lines of code above, but don't move them!\n",
    "#When you Submit your code, we'll change these lines to\n",
    "#assign different values to the variables.\n",
    "\n",
    "#Write a conditional that decides the price of a speed ticket\n",
    "#depending on the driver's speed, the speed limit, and\n",
    "#whether or not they were in a school zone.\n",
    "#\n",
    "#The reasoning that determines the price of the ticket is:\n",
    "#\n",
    "# - $100 for speeding at all (any instance where driver_speed\n",
    "#   is greater than speed limit).\n",
    "# - $10 dollars per mile over the speed limit the driver was\n",
    "#   going.\n",
    "# - 2x the value otherwise if the violation occurred in a\n",
    "#   school zone, as represented by the value of school_zone.\n",
    "#\n",
    "#Print the cost of the speeding ticket. If the driver was not\n",
    "#speeding, print $0.\n",
    "#\n",
    "#Under the original values above, this should print $240:\n",
    "#$100 for speeding, $20 for going 2mph above the speed limit,\n",
    "#and x2 for it occurring in a school zone.\n",
    "\n",
    "\n",
    "#Add your code here! Make sure to print the dollar sign, too.\n",
    "\n",
    "ticket_price = 0\n",
    "if driver_speed > speed_limit:\n",
    "    ticket_price += 100\n",
    "    ticket_price += ((driver_speed-speed_limit)*10)\n",
    "    if school_zone == True:\n",
    "        ticket_price *=2\n",
    "print(f'${ticket_price}')\n"
   ]
  },
  {
   "cell_type": "code",
   "execution_count": 4,
   "metadata": {
    "code_folding": [
     0
    ],
    "collapsed": true
   },
   "outputs": [
    {
     "name": "stdout",
     "output_type": "stream",
     "text": [
      "5\n",
      "6\n",
      "7\n",
      "8\n",
      "9\n",
      "10\n"
     ]
    }
   ],
   "source": [
    "## Extra Practice Problem 9\n",
    "minimum = 5\n",
    "maximum = 10\n",
    "\n",
    "#You may modify the lines of code above, but don't move them!\n",
    "#When you Submit your code, we'll change these lines to\n",
    "#assign different values to the variables.\n",
    "#\n",
    "#Write a loop (we suggest a for loop) that prints all the\n",
    "#numbers from minimum to maximum. Each number should be\n",
    "#printed on its own line, and you should print both minimum\n",
    "#and maxmimum themselves. You may assume minimum will always\n",
    "#be less than maximum.\n",
    "#\n",
    "#With the initial values for minimum and maximum above, this\n",
    "#should print 5, 6, 7, 8, 9, 10 -- each number would be on\n",
    "#its own line, no commas.\n",
    "\n",
    "\n",
    "#Add your code here!\n",
    "for i in range(minimum,maximum+1):\n",
    "    print(i)"
   ]
  },
  {
   "cell_type": "code",
   "execution_count": null,
   "metadata": {
    "code_folding": [
     0
    ]
   },
   "outputs": [],
   "source": [
    "## Extra Practice Problem 10\n",
    "n = 5\n",
    "\n",
    "#You may modify the lines of code above, but don't move them!\n",
    "#When you Submit your code, we'll change these lines to\n",
    "#assign different values to the variables.\n",
    "\n",
    "#Write some code that will find and print the factorial of\n",
    "#the number given by n above. You may not import anything\n",
    "#from the Python math library.\n",
    "#\n",
    "#Hint: Use a while loop, but be careful to avoid an infinite\n",
    "#loop!\n",
    "\n",
    "\n",
    "#Add your code here!\n",
    "factorial = 1\n",
    "while n > 0:\n",
    "    factorial *= n\n",
    "    n -=1\n",
    "print(factorial)"
   ]
  },
  {
   "cell_type": "code",
   "execution_count": 1,
   "metadata": {
    "code_folding": [
     0
    ],
    "collapsed": true
   },
   "outputs": [
    {
     "name": "stdout",
     "output_type": "stream",
     "text": [
      "88.29\n",
      "11.772\n"
     ]
    }
   ],
   "source": [
    "## Extra Practice Problem 11\n",
    "#Write a function called find_weight. find_weight should\n",
    "#take one parameter, a float that represents the mass of\n",
    "#an object in kilograms. It should return the weight of\n",
    "#the object on earth.\n",
    "#\n",
    "#Remember, the formula for weight is mass * gravity. You\n",
    "#should use 9.81 as the value for gravity on earth. If\n",
    "#you find Python is making rounding errors, try reversing\n",
    "#the order in which you multiply the numbers.\n",
    "\n",
    "\n",
    "#Add your code here!\n",
    "\n",
    "def find_weight(mass):\n",
    "    weight = mass*9.81\n",
    "    return weight\n",
    "\n",
    "\n",
    "#Below are some lines of code that will test your function.\n",
    "#You can change the value of the variable(s) to test your\n",
    "#function with different inputs.\n",
    "#\n",
    "#If your function works correctly, this will originally\n",
    "#print:\n",
    "#88.29\n",
    "#11.772\n",
    "print(find_weight(9.0))\n",
    "print(find_weight(1.2))\n",
    "\n",
    "\n"
   ]
  },
  {
   "cell_type": "code",
   "execution_count": 2,
   "metadata": {
    "code_folding": [
     0
    ],
    "collapsed": true
   },
   "outputs": [
    {
     "name": "stdout",
     "output_type": "stream",
     "text": [
      "88.29\n",
      "33.39\n"
     ]
    }
   ],
   "source": [
    "## Extra Course Practice Problem 12\n",
    "#Write a function called find_weight. find_weight should\n",
    "#take one positional parameter, a float that represents\n",
    "#the mass of an object in kilograms. It should return the\n",
    "#weight of the object.\n",
    "#\n",
    "#You should assume that the planet is earth and that the\n",
    "#acceleration due to gravity is 9.81; however, find_weight\n",
    "#should also have a keyword parameter called gravity that\n",
    "#allows this value to be overriden to calculate an\n",
    "#object's weight on other planets.\n",
    "#\n",
    "#Remember, the formula for weight is mass * gravity. If\n",
    "#you find Python is making rounding errors, try reversing\n",
    "#the order in which you multiply the numbers.\n",
    "\n",
    "\n",
    "#Add your code here!\n",
    "def find_weight(mass,gravity = 9.81):\n",
    "    weight = mass*gravity\n",
    "    return weight\n",
    "\n",
    "\n",
    "#Below are some lines of code that will test your function.\n",
    "#You can change the value of the variable(s) to test your\n",
    "#function with different inputs.\n",
    "#\n",
    "#If your function works correctly, this will originally\n",
    "#print:\n",
    "#88.29\n",
    "#33.39\n",
    "print(find_weight(9.0))\n",
    "print(find_weight(9.0, gravity = 3.71))\n",
    "\n",
    "\n",
    "\n",
    "\n",
    "\n",
    "\n"
   ]
  },
  {
   "cell_type": "code",
   "execution_count": 3,
   "metadata": {
    "code_folding": [
     0
    ]
   },
   "outputs": [
    {
     "name": "stdout",
     "output_type": "stream",
     "text": [
      "Can't divide by zero!\n"
     ]
    }
   ],
   "source": [
    "## Extra Course Practice Problem 13\n",
    "list_sum = 7\n",
    "list_count = 0\n",
    "\n",
    "#You may modify the lines of code above, but don't move them!\n",
    "#When you Submit your code, we'll change these lines to\n",
    "#assign different values to the variables.\n",
    "#\n",
    "#The variables above give the sum of all numbers in a list,\n",
    "#and the count of how many numbers were in the list. Your\n",
    "#goal is to find their average.\n",
    "#\n",
    "#However, if list_count is 0, then we can't divide list_sum\n",
    "#by list_count. In this case, you should print \"Can't divide\n",
    "#by zero!\" Otherwise, you should print the average.\n",
    "#\n",
    "#Note that you may not use any conditionals in your answer.\n",
    "#Note also that you should not assume that every error that\n",
    "#occurs is a divide-by-zero error: any other errors should\n",
    "#not be caught.\n",
    "\n",
    "\n",
    "#Add your code here!\n",
    "\n",
    "try:\n",
    "    list_average = list_sum/list_count\n",
    "    print(list_average)\n",
    "except ZeroDivisionError:\n",
    "    print(\"Can't divide by zero!\")"
   ]
  },
  {
   "cell_type": "code",
   "execution_count": 12,
   "metadata": {
    "code_folding": [
     0
    ]
   },
   "outputs": [
    {
     "name": "stdout",
     "output_type": "stream",
     "text": [
      "password\n"
     ]
    }
   ],
   "source": [
    "## Extra Course Practice Problem 14\n",
    "input_string = \"1234.0A\"\n",
    "\n",
    "#You may modify the lines of code above, but don't move them!\n",
    "#When you Submit your code, we'll change these lines to\n",
    "#assign different values to the variables.\n",
    "\n",
    "#Imagine that you're writing some software for a check-out\n",
    "#register. The software tries to guess what information was\n",
    "#entered based on its structure:\n",
    "#\n",
    "# - If the information entered as all numbers, then it's a\n",
    "#   PIN number.\n",
    "# - If the information entered was a number with a decimal,\n",
    "#   it's a transaction amount.\n",
    "# - If the information entered was neither, it's a password.\n",
    "#\n",
    "#Write some code to figure out which of these types of\n",
    "#information the inputted string is. Print \"PIN\" for PIN\n",
    "#number, \"amount\" for transaction amount, or \"password\" for\n",
    "#password. You may assume these are the only three possible\n",
    "#outcomes.\n",
    "#\n",
    "#Hint: You can do this however you want, but error handling\n",
    "#will be easier than using conditionals.\n",
    "\n",
    "\n",
    "#Add your code here!\n",
    "\n",
    "try:\n",
    "    int(input_string)\n",
    "    print(\"PIN\")\n",
    "except Exception:\n",
    "    try:\n",
    "        float(input_string)\n",
    "        print(\"amount\")\n",
    "    except:\n",
    "        print(\"password\")"
   ]
  },
  {
   "cell_type": "code",
   "execution_count": 21,
   "metadata": {
    "code_folding": [
     0
    ]
   },
   "outputs": [
    {
     "name": "stdout",
     "output_type": "stream",
     "text": [
      "True\n",
      "True\n",
      "False\n",
      "False\n"
     ]
    }
   ],
   "source": [
    "## Extra Course Practice Problem 15\n",
    "#Write a function called check_date. check_date should\n",
    "#require two positional parameters: a string representing\n",
    "#the name of a month, and an integer representing a date.\n",
    "#check_date should also have a keyword parameter called\n",
    "#is_leap_year, assumed to be False, representing whether or\n",
    "#not it's a leap year.\n",
    "#\n",
    "#Return True if the date is a valid calendar date. Return\n",
    "#False if it is not. A date may not be a valid calendar\n",
    "#date if the month isn't a real month, or if that date does\n",
    "#not exist for that month. You can see some examples at the\n",
    "#end of this file.\n",
    "#\n",
    "#Remember: 30 days has September, April, June, and November.\n",
    "#All the rest have 31, except February, which has 28, until\n",
    "#Leap Year gives it 29.\n",
    "#\n",
    "#You may assume that day will be greater than 0 (you don't\n",
    "#need to check negative or zero values for day).\n",
    "\n",
    "\n",
    "#Write your function here!\n",
    "def check_date(month_name,date_int,is_leap_year = False):\n",
    "    months = {\n",
    "        'January':31,\n",
    "        'February':28,\n",
    "        'March':31,\n",
    "        'April':30,\n",
    "        'May':31,\n",
    "        'June':30,\n",
    "        'July':31,\n",
    "        'August':31,\n",
    "        'September':30,\n",
    "        'October':31,\n",
    "        'November':30,\n",
    "        'December':31\n",
    "    }\n",
    "    try:\n",
    "        if is_leap_year == True:\n",
    "            months['February'] = 29\n",
    "        if months[month_name] >= date_int:\n",
    "            return True\n",
    "        else:\n",
    "            return False\n",
    "    except:\n",
    "        return False\n",
    "\n",
    "\n",
    "#Below are some lines of code that will test your function.\n",
    "#You can change the value of the variable(s) to test your\n",
    "#function with different inputs.\n",
    "#\n",
    "#If your function works correctly, this will originally\n",
    "#print: True, True, False, False, each on their own line.\n",
    "print(check_date(\"January\", 31))\n",
    "print(check_date(\"February\", 29, is_leap_year = True))\n",
    "print(check_date(\"Techtember\", 15, is_leap_year = True))\n",
    "print(check_date(\"June\", 31))\n",
    "\n",
    "\n",
    "\n",
    "\n"
   ]
  },
  {
   "cell_type": "code",
   "execution_count": null,
   "metadata": {},
   "outputs": [],
   "source": [
    "## Extra Course Practice Problem 16\n",
    "#Write a function called get_capitals. get_capitals should\n",
    "#accept one parameter, a string. It should return a string\n",
    "#containing only the capital letters from the original\n",
    "#string: no lower-case letters, numbers, punctuation marks,\n",
    "#or spaces.\n",
    "#\n",
    "#Remember, capital letters have ordinal numbers between 65\n",
    "#(\"A\") and 90 (\"Z\"). You may use the ord() function to get\n",
    "#a letter's ordinal number.\n",
    "#\n",
    "#Your function should be able to handle strings with no\n",
    "#capitals (return an empty string) and strings with all\n",
    "#capitals (return the original string). You may assume\n",
    "#we'll only use regular characters (no emojis, formatting\n",
    "#characters, etc.).\n",
    "\n",
    "\n",
    "#Write your function here!\n",
    "\n",
    "\n",
    "\n",
    "#Below are some lines of code that will test your function.\n",
    "#You can change the value of the variable(s) to test your\n",
    "#function with different inputs.\n",
    "#\n",
    "#If your function works correctly, this will originally\n",
    "#print:\n",
    "#CS\n",
    "#GIT\n",
    "print(get_capitals(\"CS1301\"))\n",
    "print(get_capitals(\"Georgia Institute of Technology\"))\n",
    "\n",
    "\n",
    "\n",
    "\n",
    "\n",
    "\n"
   ]
  }
 ],
 "metadata": {
  "kernelspec": {
   "display_name": "Python 3.7.3 64-bit ('base': conda)",
   "language": "python",
   "name": "python37364bitbaseconda94d970e1f48a45e786a178bb30405341"
  },
  "language_info": {
   "codemirror_mode": {
    "name": "ipython",
    "version": 3
   },
   "file_extension": ".py",
   "mimetype": "text/x-python",
   "name": "python",
   "nbconvert_exporter": "python",
   "pygments_lexer": "ipython3",
   "version": "3.7.3"
  },
  "toc": {
   "base_numbering": 1,
   "nav_menu": {},
   "number_sections": true,
   "sideBar": true,
   "skip_h1_title": true,
   "title_cell": "Table of Contents",
   "title_sidebar": "Contents",
   "toc_cell": true,
   "toc_position": {
    "height": "calc(100% - 180px)",
    "left": "10px",
    "top": "150px",
    "width": "165px"
   },
   "toc_section_display": true,
   "toc_window_display": true
  },
  "varInspector": {
   "cols": {
    "lenName": 16,
    "lenType": 16,
    "lenVar": 40
   },
   "kernels_config": {
    "python": {
     "delete_cmd_postfix": "",
     "delete_cmd_prefix": "del ",
     "library": "var_list.py",
     "varRefreshCmd": "print(var_dic_list())"
    },
    "r": {
     "delete_cmd_postfix": ") ",
     "delete_cmd_prefix": "rm(",
     "library": "var_list.r",
     "varRefreshCmd": "cat(var_dic_list()) "
    }
   },
   "oldHeight": 162.58643999999998,
   "position": {
    "height": "183.433px",
    "left": "1264.05px",
    "right": "20px",
    "top": "120px",
    "width": "323.148px"
   },
   "types_to_exclude": [
    "module",
    "function",
    "builtin_function_or_method",
    "instance",
    "_Feature"
   ],
   "varInspector_section_display": "block",
   "window_display": false
  }
 },
 "nbformat": 4,
 "nbformat_minor": 2
}
